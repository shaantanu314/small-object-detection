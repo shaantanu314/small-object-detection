{
 "cells": [
  {
   "cell_type": "code",
   "execution_count": 30,
   "id": "68921f54",
   "metadata": {},
   "outputs": [],
   "source": [
    "import open3d as o3d\n",
    "import numpy as np\n",
    "import cv2\n",
    "import os\n",
    "import multiprocessing\n",
    "from multiprocessing import Pool\n",
    "import sys\n",
    "import tqdm"
   ]
  },
  {
   "cell_type": "code",
   "execution_count": 13,
   "id": "53d7d29d",
   "metadata": {},
   "outputs": [],
   "source": [
    "\n",
    "def getCameraIntrinsicMatrix(intrinsicMatrixPath):\n",
    "    camera_intrinsics = np.loadtxt(intrinsicMatrixPath).astype(np.float64)\n",
    "    fx = camera_intrinsics[0][0]\n",
    "    fy = camera_intrinsics[1][1]\n",
    "    S = camera_intrinsics[0][1]\n",
    "    cx = camera_intrinsics[0][2]\n",
    "    cy = camera_intrinsics[1][2]\n",
    "\n",
    "    camera_intrinsic = o3d.camera.PinholeCameraIntrinsic(width=640, height=480, fx=fx,fy=fy,cx=cx,cy=cy)\n",
    "    \n",
    "    return camera_intrinsic"
   ]
  },
  {
   "cell_type": "code",
   "execution_count": 3,
   "id": "b26f744a",
   "metadata": {},
   "outputs": [],
   "source": [
    "imagepath = \"/scratch/small-object-detection/color\"\n",
    "depthpath = \"/scratch/small-object-detection/depth\"\n",
    "posepath = \"/scratch/small-object-detection/pose\""
   ]
  },
  {
   "cell_type": "code",
   "execution_count": 16,
   "id": "3f170316",
   "metadata": {},
   "outputs": [],
   "source": [
    "cameraIntrinsicMatrix = getCameraIntrinsicMatrix(\"/scratch/small-object-detection/intrinsics/intrinsic_depth.txt\")\n"
   ]
  },
  {
   "cell_type": "code",
   "execution_count": 38,
   "id": "e6816a1d",
   "metadata": {},
   "outputs": [],
   "source": [
    "def registration_result(source, target, transformation):\n",
    "    print(\"here\")\n",
    "    target.transform(transformation)\n",
    "\n",
    "    pcd = o3d.geometry.PointCloud()\n",
    "    pcd.points = o3d.utility.Vector3dVector(np.vstack((np.asarray(source.points), np.asarray(target.points))))\n",
    "    pcd.colors = o3d.utility.Vector3dVector(np.vstack((np.asarray(source.colors), np.asarray(target.colors))))\n",
    "\n",
    "    return pcd"
   ]
  },
  {
   "cell_type": "code",
   "execution_count": 41,
   "id": "ab5faed9",
   "metadata": {},
   "outputs": [],
   "source": [
    "def display():\n",
    "    print(\"here\")"
   ]
  },
  {
   "cell_type": "code",
   "execution_count": 50,
   "id": "39f19974",
   "metadata": {},
   "outputs": [],
   "source": [
    "def register_frame(scan):\n",
    "#     print(f\"Starting for {scan}\\n\")\n",
    "    global depthpath,imagepath,reg_p2p,transforms,lock\n",
    "    \n",
    "    depth_file = depthpath+\"/\"+scan+'.npy'\n",
    "    image_file = imagepath+'/'+scan+'.png'\n",
    "\n",
    "    if(not os.path.exists(depth_file)):\n",
    "        return\n",
    "\n",
    "    if(not os.path.exists(image_file)):\n",
    "        return\n",
    "\n",
    "\n",
    "    try:\n",
    "        depth_map = o3d.geometry.Image(np.ascontiguousarray(np.load(depth_file)).astype(np.float32))\n",
    "        rgb_img = cv2.cvtColor(cv2.imread(image_file),cv2.COLOR_BGR2RGB)\n",
    "    except:\n",
    "        print(f\"error caused due to {depth_file} or {image_file}\")\n",
    "        return\n",
    "\n",
    "    rgbd_image = o3d.geometry.RGBDImage.create_from_color_and_depth(o3d.geometry.Image(rgb_img), o3d.geometry.Image(depth_map),convert_rgb_to_intensity=False)\n",
    "\n",
    "    pcd = o3d.geometry.PointCloud.create_from_rgbd_image(rgbd_image, cameraIntrinsicMatrix)\n",
    "\n",
    "    # Transform the point cloud in local frame to global world coordinates\n",
    "    pose = np.loadtxt(posepath+'/'+scan+'.txt',dtype=np.float32)\n",
    "    pcd.transform(pose)\n",
    "\n",
    "    # Take the each 25ht point of the pointcloud\n",
    "    pcd = pcd.uniform_down_sample(100)\n",
    "\n",
    "    # Set initial transformation and threshold. May depend on previous params\n",
    "    threshold = 0.005\n",
    "    trans_init = np.asarray([[1.0, 0, 0, 0],\n",
    "                             [0, 1.0, 0, 0],\n",
    "                             [0, 0, 1.0, 0],\n",
    "                             [0.0, 0.0, 0.0, 1.0]])\n",
    "    \n",
    "    \n",
    "    lock.acquire()\n",
    "#     print(f\"Acquired Lock for {scan} \\n\")\n",
    "    if reg_p2p is not None and np.asarray(reg_p2p.points).shape != 0:\n",
    "        reg_res = o3d.pipelines.registration.registration_icp(\n",
    "                reg_p2p, pcd, threshold, trans_init,\n",
    "                o3d.pipelines.registration.TransformationEstimationPointToPoint(),\n",
    "        o3d.pipelines.registration.ICPConvergenceCriteria(max_iteration=2000))\n",
    "        transforms.append(reg_res.transformation)\n",
    "        reg_p2p = registration_result(reg_p2p, pcd, reg_res.transformation)\n",
    "    else:\n",
    "        reg_p2p = pcd\n",
    "#     reg_p2p = pcd\n",
    "#     print(f\"Released Lock for {scan} \\n\")\n",
    "    lock.release()\n",
    "#     print(f\"Exit for {scan}\\n\")\n",
    "    \n",
    "    sys.stdout.flush()"
   ]
  },
  {
   "cell_type": "code",
   "execution_count": 51,
   "id": "15be1354",
   "metadata": {},
   "outputs": [
    {
     "name": "stderr",
     "output_type": "stream",
     "text": [
      "  6%|██████████▌                                                                                                                                                         | 52/808 [00:07<01:47,  7.04it/s]\n"
     ]
    },
    {
     "ename": "KeyboardInterrupt",
     "evalue": "",
     "output_type": "error",
     "traceback": [
      "\u001b[0;31m---------------------------------------------------------------------------\u001b[0m",
      "\u001b[0;31mIndexError\u001b[0m                                Traceback (most recent call last)",
      "File \u001b[0;32m~/miniconda3/envs/chemprop_ir/lib/python3.10/multiprocessing/pool.py:856\u001b[0m, in \u001b[0;36mIMapIterator.next\u001b[0;34m(self, timeout)\u001b[0m\n\u001b[1;32m    855\u001b[0m \u001b[38;5;28;01mtry\u001b[39;00m:\n\u001b[0;32m--> 856\u001b[0m     item \u001b[38;5;241m=\u001b[39m \u001b[38;5;28;43mself\u001b[39;49m\u001b[38;5;241;43m.\u001b[39;49m\u001b[43m_items\u001b[49m\u001b[38;5;241;43m.\u001b[39;49m\u001b[43mpopleft\u001b[49m\u001b[43m(\u001b[49m\u001b[43m)\u001b[49m\n\u001b[1;32m    857\u001b[0m \u001b[38;5;28;01mexcept\u001b[39;00m \u001b[38;5;167;01mIndexError\u001b[39;00m:\n",
      "\u001b[0;31mIndexError\u001b[0m: pop from an empty deque",
      "\nDuring handling of the above exception, another exception occurred:\n",
      "\u001b[0;31mKeyboardInterrupt\u001b[0m                         Traceback (most recent call last)",
      "Cell \u001b[0;32mIn [51], line 12\u001b[0m\n\u001b[1;32m      9\u001b[0m lock \u001b[38;5;241m=\u001b[39m multiprocessing\u001b[38;5;241m.\u001b[39mLock()\n\u001b[1;32m     11\u001b[0m \u001b[38;5;28;01mwith\u001b[39;00m Pool() \u001b[38;5;28;01mas\u001b[39;00m pool:\n\u001b[0;32m---> 12\u001b[0m     \u001b[38;5;28;01mfor\u001b[39;00m _ \u001b[38;5;129;01min\u001b[39;00m tqdm\u001b[38;5;241m.\u001b[39mtqdm(pool\u001b[38;5;241m.\u001b[39mimap_unordered(register_frame, scans_list), total\u001b[38;5;241m=\u001b[39m\u001b[38;5;28mlen\u001b[39m(scans_list)):\n\u001b[1;32m     13\u001b[0m         \u001b[38;5;28;01mpass\u001b[39;00m\n",
      "File \u001b[0;32m~/miniconda3/envs/chemprop_ir/lib/python3.10/site-packages/tqdm/std.py:1195\u001b[0m, in \u001b[0;36mtqdm.__iter__\u001b[0;34m(self)\u001b[0m\n\u001b[1;32m   1192\u001b[0m time \u001b[38;5;241m=\u001b[39m \u001b[38;5;28mself\u001b[39m\u001b[38;5;241m.\u001b[39m_time\n\u001b[1;32m   1194\u001b[0m \u001b[38;5;28;01mtry\u001b[39;00m:\n\u001b[0;32m-> 1195\u001b[0m     \u001b[38;5;28;01mfor\u001b[39;00m obj \u001b[38;5;129;01min\u001b[39;00m iterable:\n\u001b[1;32m   1196\u001b[0m         \u001b[38;5;28;01myield\u001b[39;00m obj\n\u001b[1;32m   1197\u001b[0m         \u001b[38;5;66;03m# Update and possibly print the progressbar.\u001b[39;00m\n\u001b[1;32m   1198\u001b[0m         \u001b[38;5;66;03m# Note: does not call self.update(1) for speed optimisation.\u001b[39;00m\n",
      "File \u001b[0;32m~/miniconda3/envs/chemprop_ir/lib/python3.10/multiprocessing/pool.py:861\u001b[0m, in \u001b[0;36mIMapIterator.next\u001b[0;34m(self, timeout)\u001b[0m\n\u001b[1;32m    859\u001b[0m     \u001b[38;5;28mself\u001b[39m\u001b[38;5;241m.\u001b[39m_pool \u001b[38;5;241m=\u001b[39m \u001b[38;5;28;01mNone\u001b[39;00m\n\u001b[1;32m    860\u001b[0m     \u001b[38;5;28;01mraise\u001b[39;00m \u001b[38;5;167;01mStopIteration\u001b[39;00m \u001b[38;5;28;01mfrom\u001b[39;00m \u001b[38;5;28mNone\u001b[39m\n\u001b[0;32m--> 861\u001b[0m \u001b[38;5;28;43mself\u001b[39;49m\u001b[38;5;241;43m.\u001b[39;49m\u001b[43m_cond\u001b[49m\u001b[38;5;241;43m.\u001b[39;49m\u001b[43mwait\u001b[49m\u001b[43m(\u001b[49m\u001b[43mtimeout\u001b[49m\u001b[43m)\u001b[49m\n\u001b[1;32m    862\u001b[0m \u001b[38;5;28;01mtry\u001b[39;00m:\n\u001b[1;32m    863\u001b[0m     item \u001b[38;5;241m=\u001b[39m \u001b[38;5;28mself\u001b[39m\u001b[38;5;241m.\u001b[39m_items\u001b[38;5;241m.\u001b[39mpopleft()\n",
      "File \u001b[0;32m~/miniconda3/envs/chemprop_ir/lib/python3.10/threading.py:320\u001b[0m, in \u001b[0;36mCondition.wait\u001b[0;34m(self, timeout)\u001b[0m\n\u001b[1;32m    318\u001b[0m \u001b[38;5;28;01mtry\u001b[39;00m:    \u001b[38;5;66;03m# restore state no matter what (e.g., KeyboardInterrupt)\u001b[39;00m\n\u001b[1;32m    319\u001b[0m     \u001b[38;5;28;01mif\u001b[39;00m timeout \u001b[38;5;129;01mis\u001b[39;00m \u001b[38;5;28;01mNone\u001b[39;00m:\n\u001b[0;32m--> 320\u001b[0m         \u001b[43mwaiter\u001b[49m\u001b[38;5;241;43m.\u001b[39;49m\u001b[43macquire\u001b[49m\u001b[43m(\u001b[49m\u001b[43m)\u001b[49m\n\u001b[1;32m    321\u001b[0m         gotit \u001b[38;5;241m=\u001b[39m \u001b[38;5;28;01mTrue\u001b[39;00m\n\u001b[1;32m    322\u001b[0m     \u001b[38;5;28;01melse\u001b[39;00m:\n",
      "\u001b[0;31mKeyboardInterrupt\u001b[0m: "
     ]
    }
   ],
   "source": [
    "scans_list = os.listdir(posepath)\n",
    "scans_list = list(map(lambda x: x.split('.')[0],scans_list))\n",
    "\n",
    "transforms = list()\n",
    "\n",
    "reg_p2p = None\n",
    "\n",
    "\n",
    "lock = multiprocessing.Lock()\n",
    "\n",
    "with Pool() as pool:\n",
    "    for _ in tqdm.tqdm(pool.imap_unordered(register_frame, scans_list), total=len(scans_list)):\n",
    "        pass\n",
    "    \n",
    "# with Pool() as pool:\n",
    "#     pool.map(register_frame,scans_list)"
   ]
  },
  {
   "cell_type": "code",
   "execution_count": 5,
   "id": "5cc9025f",
   "metadata": {},
   "outputs": [
    {
     "name": "stdout",
     "output_type": "stream",
     "text": [
      "40\n"
     ]
    }
   ],
   "source": [
    "print(multiprocessing.cpu_count())"
   ]
  }
 ],
 "metadata": {
  "kernelspec": {
   "display_name": "Python (chemprop_ir)",
   "language": "python",
   "name": "chemprop_ir"
  },
  "language_info": {
   "codemirror_mode": {
    "name": "ipython",
    "version": 3
   },
   "file_extension": ".py",
   "mimetype": "text/x-python",
   "name": "python",
   "nbconvert_exporter": "python",
   "pygments_lexer": "ipython3",
   "version": "3.10.6"
  }
 },
 "nbformat": 4,
 "nbformat_minor": 5
}
