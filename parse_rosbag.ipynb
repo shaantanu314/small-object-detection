{
 "cells": [
  {
   "cell_type": "code",
   "execution_count": 1,
   "id": "c2bf94ff-9c3c-46c9-8d64-cbb721aaa940",
   "metadata": {},
   "outputs": [],
   "source": [
    "import os\n",
    "import cv2\n",
    "# from cv_bridge import CvBridge\n",
    "import bagpy\n",
    "import rosbag\n",
    "from bagpy import bagreader\n",
    "import pandas as pd\n",
    "import matplotlib.pyplot as plt"
   ]
  },
  {
   "cell_type": "code",
   "execution_count": 2,
   "id": "4afae841",
   "metadata": {},
   "outputs": [],
   "source": [
    "%load_ext autoreload\n",
    "%autoreload 2"
   ]
  },
  {
   "cell_type": "code",
   "execution_count": 3,
   "id": "dbdb8bc2-b9ed-4e57-a936-b1f96fac29ef",
   "metadata": {},
   "outputs": [],
   "source": [
    "\"\"\"\n",
    "    Ref: https://answers.ros.org/question/350904/cv_bridge-throws-boost-import-error-in-python-3-and-ros-melodic/\n",
    "    Provides conversions between OpenCV and ROS image formats in a hard-coded way.  \n",
    "    CV_Bridge, the module usually responsible for doing this, is not compatible with Python 3,\n",
    "     - the language this all is written in.  So we create this module, and all is... well, all is not well,\n",
    "     - but all works.  :-/\n",
    "\"\"\"\n",
    "import sys\n",
    "import numpy as np\n",
    "from sensor_msgs.msg import Image\n",
    "\n",
    "def imgmsg_to_cv2(img_msg, msg_type):\n",
    "#     print(img_msg.height, img_msg.width, len(img_msg.data), img_msg.encoding)\n",
    "    if msg_type == 'color':\n",
    "        dtype = np.dtype(\"uint8\") # Hardcode to 8 bits...\n",
    "        img_shape = (img_msg.height, img_msg.width, 3)\n",
    "    elif msg_type == 'depth':\n",
    "        dtype = np.dtype(\"uint16\")\n",
    "        img_shape = (img_msg.height, img_msg.width)\n",
    "    else:\n",
    "        raise Exception(f'Not supported msg_type {msg_type}')\n",
    "                        \n",
    "    dtype = dtype.newbyteorder('>' if img_msg.is_bigendian else '<')\n",
    "    image_opencv = np.ndarray(shape=img_shape, dtype=dtype, buffer=img_msg.data)\n",
    "    if img_msg.encoding == \"rgb8\":\n",
    "        image_opencv = cv2.cvtColor(image_opencv, cv2.COLOR_RGB2BGR)\n",
    "    # If the byt order is different between the message and the system.\n",
    "    if img_msg.is_bigendian == (sys.byteorder == 'little'):\n",
    "        image_opencv = image_opencv.byteswap().newbyteorder()\n",
    "    return image_opencv\n",
    "\n",
    "def cv2_to_imgmsg(cv_image):\n",
    "    img_msg = Image()\n",
    "    img_msg.height = cv_image.shape[0]\n",
    "    img_msg.width = cv_image.shape[1]\n",
    "    img_msg.encoding = \"bgr8\"\n",
    "    img_msg.is_bigendian = 0\n",
    "    img_msg.data = cv_image.tostring()\n",
    "    img_msg.step = len(img_msg.data) // img_msg.height # That double line is actually integer division, not a comment\n",
    "    return img_msg"
   ]
  },
  {
   "cell_type": "code",
   "execution_count": null,
   "id": "8c643cf2-2b97-46c5-8bca-f99b5743369e",
   "metadata": {},
   "outputs": [],
   "source": [
    "b = bagreader(BAGFILE)\n",
    "\n",
    "# get the list of topics\n",
    "print(b.topic_table)"
   ]
  },
  {
   "cell_type": "code",
   "execution_count": null,
   "id": "04b36d09-e0ce-42e2-851d-b70b618c5cd8",
   "metadata": {},
   "outputs": [],
   "source": [
    "# color = b.message_by_topic('/camera/color/image_raw')\n",
    "depth = b.message_by_topic('camera/aligned_depth_to_color/image_raw')\n",
    "pose = b.message_by_topic('/odom')"
   ]
  },
  {
   "cell_type": "code",
   "execution_count": 65,
   "id": "8c90bbd6",
   "metadata": {},
   "outputs": [],
   "source": [
    "import csv\n",
    "\n",
    "timestamps = []\n",
    "\n",
    "with open(\"/media/god-particle/DA48D0B148D08D9F/shaantanu_honours/2023-01-03-19-05-34/odom.csv\", 'r') as file:\n",
    "  csvreader = csv.reader(file)\n",
    "  for i,row in enumerate(csvreader):\n",
    "    if i==0:\n",
    "      continue\n",
    "    timestamps.append(row[0])\n",
    "    # timestamps.append(''.join(str(row[0]).split('.')))\n",
    "\n",
    "timestamps = np.array([float(x) for x in timestamps])"
   ]
  },
  {
   "cell_type": "code",
   "execution_count": 73,
   "id": "5edb89e8-ceb1-48a0-a55e-a5b42eb2e883",
   "metadata": {},
   "outputs": [],
   "source": [
    "BAGFILE = '/media/god-particle/DA48D0B148D08D9F/shaantanu_honours/2023-01-03-19-05-34.bag'\n",
    "DATADIR = '/media/god-particle/DA48D0B148D08D9F/shaantanu_honours/data'\n",
    "\n",
    "os.makedirs(DATADIR, exist_ok=True)\n",
    "bag = rosbag.Bag(BAGFILE)\n",
    "\n",
    "\n",
    "for dirname in ['color', 'depth', 'colored_depth','pose']:\n",
    "    os.makedirs(os.path.join(DATADIR, dirname), exist_ok=True)\n",
    "\n",
    "# [('camera/color/image_raw', 'color'), ('camera/aligned_depth_to_color/image_raw', 'depth')]\n",
    "\n",
    "names = []\n",
    "\n",
    "for TOPIC, dirname in [('camera/color/image_raw', 'color'), ('camera/aligned_depth_to_color/image_raw', 'depth')]:\n",
    "    image_topic = bag.read_messages(TOPIC)\n",
    "    for k, b in enumerate(image_topic):\n",
    "        # bridge = CvBridge()\n",
    "        cv_image = imgmsg_to_cv2(b.message, dirname)     \n",
    "        \n",
    "        curr_timestamp = float(str(b.timestamp))\n",
    "        curr_timestamp = curr_timestamp / (10**(len(str(b.timestamp))-10))\n",
    "        idx = (np.abs(timestamps - curr_timestamp)).argmin()\n",
    "\n",
    "        filename_timestamp = ''.join(str(timestamps[idx]).split('.'))\n",
    "        # names.append(filename_timestamp)\n",
    "        # print(curr_timestamp,filename_timestamp)\n",
    "        # continue\n",
    "\n",
    "        if (dirname == 'depth'):\n",
    "            np.save(os.path.join(DATADIR, dirname, filename_timestamp + '.npy'), cv_image)\n",
    "            cv_image = cv2.applyColorMap(cv2.convertScaleAbs(cv_image, alpha=0.03), cv2.COLORMAP_JET)\n",
    "            result = cv2.imwrite(os.path.join(DATADIR, 'colored_depth', filename_timestamp + '.png'), cv_image)\n",
    "        else:\n",
    "            result = cv2.imwrite(os.path.join(DATADIR, dirname, filename_timestamp + '.png'), cv_image)\n",
    "#         print(str(result) + f' saved: {dirname} ' + str(b.timestamp))\n",
    "\n",
    "\n",
    "bag.close()"
   ]
  },
  {
   "cell_type": "markdown",
   "id": "513a7229-7eb5-42fe-8644-141e0d1dbff1",
   "metadata": {},
   "source": [
    "## To extract pose data"
   ]
  },
  {
   "cell_type": "code",
   "execution_count": 20,
   "id": "1777b510-c45d-4912-8933-b647f6835f54",
   "metadata": {},
   "outputs": [
    {
     "data": {
      "text/html": [
       "<div>\n",
       "<style scoped>\n",
       "    .dataframe tbody tr th:only-of-type {\n",
       "        vertical-align: middle;\n",
       "    }\n",
       "\n",
       "    .dataframe tbody tr th {\n",
       "        vertical-align: top;\n",
       "    }\n",
       "\n",
       "    .dataframe thead th {\n",
       "        text-align: right;\n",
       "    }\n",
       "</style>\n",
       "<table border=\"1\" class=\"dataframe\">\n",
       "  <thead>\n",
       "    <tr style=\"text-align: right;\">\n",
       "      <th></th>\n",
       "      <th>Time</th>\n",
       "      <th>header.seq</th>\n",
       "      <th>header.stamp.secs</th>\n",
       "      <th>header.stamp.nsecs</th>\n",
       "      <th>header.frame_id</th>\n",
       "      <th>child_frame_id</th>\n",
       "      <th>pose.pose.position.x</th>\n",
       "      <th>pose.pose.position.y</th>\n",
       "      <th>pose.pose.position.z</th>\n",
       "      <th>pose.pose.orientation.x</th>\n",
       "      <th>...</th>\n",
       "      <th>pose.pose.orientation.z</th>\n",
       "      <th>pose.pose.orientation.w</th>\n",
       "      <th>pose.covariance</th>\n",
       "      <th>twist.twist.linear.x</th>\n",
       "      <th>twist.twist.linear.y</th>\n",
       "      <th>twist.twist.linear.z</th>\n",
       "      <th>twist.twist.angular.x</th>\n",
       "      <th>twist.twist.angular.y</th>\n",
       "      <th>twist.twist.angular.z</th>\n",
       "      <th>twist.covariance</th>\n",
       "    </tr>\n",
       "  </thead>\n",
       "  <tbody>\n",
       "    <tr>\n",
       "      <th>0</th>\n",
       "      <td>1.672753e+09</td>\n",
       "      <td>1387</td>\n",
       "      <td>1672752934</td>\n",
       "      <td>501799356</td>\n",
       "      <td>odom</td>\n",
       "      <td>base_link</td>\n",
       "      <td>-0.000031</td>\n",
       "      <td>0.0</td>\n",
       "      <td>0.0</td>\n",
       "      <td>0.0</td>\n",
       "      <td>...</td>\n",
       "      <td>0.000028</td>\n",
       "      <td>1.0</td>\n",
       "      <td>(0.0, 0.0, 0.0, 0.0, 0.0, 0.0, 0.0, 0.0, 0.0, ...</td>\n",
       "      <td>0.0</td>\n",
       "      <td>0.0</td>\n",
       "      <td>0.0</td>\n",
       "      <td>0.0</td>\n",
       "      <td>0.0</td>\n",
       "      <td>0.0</td>\n",
       "      <td>(0.0, 0.0, 0.0, 0.0, 0.0, 0.0, 0.0, 0.0, 0.0, ...</td>\n",
       "    </tr>\n",
       "    <tr>\n",
       "      <th>1</th>\n",
       "      <td>1.672753e+09</td>\n",
       "      <td>1388</td>\n",
       "      <td>1672752934</td>\n",
       "      <td>543835660</td>\n",
       "      <td>odom</td>\n",
       "      <td>base_link</td>\n",
       "      <td>-0.000031</td>\n",
       "      <td>0.0</td>\n",
       "      <td>0.0</td>\n",
       "      <td>0.0</td>\n",
       "      <td>...</td>\n",
       "      <td>0.000028</td>\n",
       "      <td>1.0</td>\n",
       "      <td>(0.0, 0.0, 0.0, 0.0, 0.0, 0.0, 0.0, 0.0, 0.0, ...</td>\n",
       "      <td>0.0</td>\n",
       "      <td>0.0</td>\n",
       "      <td>0.0</td>\n",
       "      <td>0.0</td>\n",
       "      <td>0.0</td>\n",
       "      <td>0.0</td>\n",
       "      <td>(0.0, 0.0, 0.0, 0.0, 0.0, 0.0, 0.0, 0.0, 0.0, ...</td>\n",
       "    </tr>\n",
       "    <tr>\n",
       "      <th>2</th>\n",
       "      <td>1.672753e+09</td>\n",
       "      <td>1389</td>\n",
       "      <td>1672752934</td>\n",
       "      <td>604812650</td>\n",
       "      <td>odom</td>\n",
       "      <td>base_link</td>\n",
       "      <td>-0.000031</td>\n",
       "      <td>0.0</td>\n",
       "      <td>0.0</td>\n",
       "      <td>0.0</td>\n",
       "      <td>...</td>\n",
       "      <td>0.000028</td>\n",
       "      <td>1.0</td>\n",
       "      <td>(0.0, 0.0, 0.0, 0.0, 0.0, 0.0, 0.0, 0.0, 0.0, ...</td>\n",
       "      <td>0.0</td>\n",
       "      <td>0.0</td>\n",
       "      <td>0.0</td>\n",
       "      <td>0.0</td>\n",
       "      <td>0.0</td>\n",
       "      <td>0.0</td>\n",
       "      <td>(0.0, 0.0, 0.0, 0.0, 0.0, 0.0, 0.0, 0.0, 0.0, ...</td>\n",
       "    </tr>\n",
       "    <tr>\n",
       "      <th>3</th>\n",
       "      <td>1.672753e+09</td>\n",
       "      <td>1390</td>\n",
       "      <td>1672752934</td>\n",
       "      <td>646757292</td>\n",
       "      <td>odom</td>\n",
       "      <td>base_link</td>\n",
       "      <td>-0.000031</td>\n",
       "      <td>0.0</td>\n",
       "      <td>0.0</td>\n",
       "      <td>0.0</td>\n",
       "      <td>...</td>\n",
       "      <td>0.000028</td>\n",
       "      <td>1.0</td>\n",
       "      <td>(0.0, 0.0, 0.0, 0.0, 0.0, 0.0, 0.0, 0.0, 0.0, ...</td>\n",
       "      <td>0.0</td>\n",
       "      <td>0.0</td>\n",
       "      <td>0.0</td>\n",
       "      <td>0.0</td>\n",
       "      <td>0.0</td>\n",
       "      <td>0.0</td>\n",
       "      <td>(0.0, 0.0, 0.0, 0.0, 0.0, 0.0, 0.0, 0.0, 0.0, ...</td>\n",
       "    </tr>\n",
       "    <tr>\n",
       "      <th>4</th>\n",
       "      <td>1.672753e+09</td>\n",
       "      <td>1391</td>\n",
       "      <td>1672752934</td>\n",
       "      <td>707833167</td>\n",
       "      <td>odom</td>\n",
       "      <td>base_link</td>\n",
       "      <td>-0.000031</td>\n",
       "      <td>0.0</td>\n",
       "      <td>0.0</td>\n",
       "      <td>0.0</td>\n",
       "      <td>...</td>\n",
       "      <td>0.000028</td>\n",
       "      <td>1.0</td>\n",
       "      <td>(0.0, 0.0, 0.0, 0.0, 0.0, 0.0, 0.0, 0.0, 0.0, ...</td>\n",
       "      <td>0.0</td>\n",
       "      <td>0.0</td>\n",
       "      <td>0.0</td>\n",
       "      <td>0.0</td>\n",
       "      <td>0.0</td>\n",
       "      <td>0.0</td>\n",
       "      <td>(0.0, 0.0, 0.0, 0.0, 0.0, 0.0, 0.0, 0.0, 0.0, ...</td>\n",
       "    </tr>\n",
       "  </tbody>\n",
       "</table>\n",
       "<p>5 rows × 21 columns</p>\n",
       "</div>"
      ],
      "text/plain": [
       "           Time  header.seq  header.stamp.secs  header.stamp.nsecs  \\\n",
       "0  1.672753e+09        1387         1672752934           501799356   \n",
       "1  1.672753e+09        1388         1672752934           543835660   \n",
       "2  1.672753e+09        1389         1672752934           604812650   \n",
       "3  1.672753e+09        1390         1672752934           646757292   \n",
       "4  1.672753e+09        1391         1672752934           707833167   \n",
       "\n",
       "  header.frame_id child_frame_id  pose.pose.position.x  pose.pose.position.y  \\\n",
       "0            odom      base_link             -0.000031                   0.0   \n",
       "1            odom      base_link             -0.000031                   0.0   \n",
       "2            odom      base_link             -0.000031                   0.0   \n",
       "3            odom      base_link             -0.000031                   0.0   \n",
       "4            odom      base_link             -0.000031                   0.0   \n",
       "\n",
       "   pose.pose.position.z  pose.pose.orientation.x  ...  \\\n",
       "0                   0.0                      0.0  ...   \n",
       "1                   0.0                      0.0  ...   \n",
       "2                   0.0                      0.0  ...   \n",
       "3                   0.0                      0.0  ...   \n",
       "4                   0.0                      0.0  ...   \n",
       "\n",
       "   pose.pose.orientation.z  pose.pose.orientation.w  \\\n",
       "0                 0.000028                      1.0   \n",
       "1                 0.000028                      1.0   \n",
       "2                 0.000028                      1.0   \n",
       "3                 0.000028                      1.0   \n",
       "4                 0.000028                      1.0   \n",
       "\n",
       "                                     pose.covariance twist.twist.linear.x  \\\n",
       "0  (0.0, 0.0, 0.0, 0.0, 0.0, 0.0, 0.0, 0.0, 0.0, ...                  0.0   \n",
       "1  (0.0, 0.0, 0.0, 0.0, 0.0, 0.0, 0.0, 0.0, 0.0, ...                  0.0   \n",
       "2  (0.0, 0.0, 0.0, 0.0, 0.0, 0.0, 0.0, 0.0, 0.0, ...                  0.0   \n",
       "3  (0.0, 0.0, 0.0, 0.0, 0.0, 0.0, 0.0, 0.0, 0.0, ...                  0.0   \n",
       "4  (0.0, 0.0, 0.0, 0.0, 0.0, 0.0, 0.0, 0.0, 0.0, ...                  0.0   \n",
       "\n",
       "   twist.twist.linear.y  twist.twist.linear.z  twist.twist.angular.x  \\\n",
       "0                   0.0                   0.0                    0.0   \n",
       "1                   0.0                   0.0                    0.0   \n",
       "2                   0.0                   0.0                    0.0   \n",
       "3                   0.0                   0.0                    0.0   \n",
       "4                   0.0                   0.0                    0.0   \n",
       "\n",
       "   twist.twist.angular.y  twist.twist.angular.z  \\\n",
       "0                    0.0                    0.0   \n",
       "1                    0.0                    0.0   \n",
       "2                    0.0                    0.0   \n",
       "3                    0.0                    0.0   \n",
       "4                    0.0                    0.0   \n",
       "\n",
       "                                    twist.covariance  \n",
       "0  (0.0, 0.0, 0.0, 0.0, 0.0, 0.0, 0.0, 0.0, 0.0, ...  \n",
       "1  (0.0, 0.0, 0.0, 0.0, 0.0, 0.0, 0.0, 0.0, 0.0, ...  \n",
       "2  (0.0, 0.0, 0.0, 0.0, 0.0, 0.0, 0.0, 0.0, 0.0, ...  \n",
       "3  (0.0, 0.0, 0.0, 0.0, 0.0, 0.0, 0.0, 0.0, 0.0, ...  \n",
       "4  (0.0, 0.0, 0.0, 0.0, 0.0, 0.0, 0.0, 0.0, 0.0, ...  \n",
       "\n",
       "[5 rows x 21 columns]"
      ]
     },
     "execution_count": 20,
     "metadata": {},
     "output_type": "execute_result"
    }
   ],
   "source": [
    "df = pd.read_csv('/media/god-particle/DA48D0B148D08D9F/shaantanu_honours/2023-01-03-19-05-34/odom.csv')\n",
    "# print(df[100])\n",
    "df.head()"
   ]
  },
  {
   "cell_type": "code",
   "execution_count": 33,
   "id": "d5f0401c",
   "metadata": {},
   "outputs": [
    {
     "data": {
      "text/plain": [
       "[<matplotlib.lines.Line2D at 0x7fde2e9c6830>]"
      ]
     },
     "execution_count": 33,
     "metadata": {},
     "output_type": "execute_result"
    },
    {
     "data": {
      "image/png": "[encoded data removed]",
      "text/plain": [
       "<Figure size 640x480 with 1 Axes>"
      ]
     },
     "metadata": {},
     "output_type": "display_data"
    }
   ],
   "source": [
    "posx = df['pose.pose.position.x']\n",
    "posy = df['pose.pose.position.y']\n",
    "plt.plot(posx,posy)"
   ]
  },
  {
   "cell_type": "code",
   "execution_count": 34,
   "id": "76c46c69",
   "metadata": {},
   "outputs": [],
   "source": [
    "from scipy.spatial.transform import Rotation as R"
   ]
  },
  {
   "cell_type": "code",
   "execution_count": 51,
   "id": "7cd78071",
   "metadata": {},
   "outputs": [],
   "source": [
    "for ind in df.index:\n",
    "    filename = ''.join(str(df['Time'][ind]).split('.'))\n",
    "    while(len(filename)<20):\n",
    "        filename += '0'\n",
    "    filename += \".txt\"\n",
    "\n",
    "\n",
    "    theta_x = df['pose.pose.orientation.x'][ind]\n",
    "    theta_y = df['pose.pose.orientation.y'][ind]\n",
    "    theta_z = df['pose.pose.orientation.z'][ind]\n",
    "    \n",
    "    r = R.from_rotvec(np.array([theta_x,theta_y,theta_z])).as_matrix()\n",
    "    \n",
    "    disp = np.zeros((3,1))\n",
    "    disp[2][0] = df['pose.pose.position.x'][ind]\n",
    "    disp[1][0] = df['pose.pose.position.y'][ind]\n",
    "    disp[0][0] = df['pose.pose.position.z'][ind]\n",
    "\n",
    "    r = np.hstack((r,disp))\n",
    "    r = np.vstack((r,np.array([0,0,0,1])))\n",
    "    \n",
    "    np.savetxt('/media/god-particle/DA48D0B148D08D9F/shaantanu_honours/data/pose/'+filename,r)"
   ]
  },
  {
   "attachments": {},
   "cell_type": "markdown",
   "id": "ae2c8b25",
   "metadata": {},
   "source": [
    "### Renaming files \n"
   ]
  },
  {
   "cell_type": "code",
   "execution_count": 43,
   "id": "377c5ea1-79ec-46f6-b946-ab5fb4ae5405",
   "metadata": {},
   "outputs": [],
   "source": [
    "import os\n",
    "\n",
    "root_dir = '/media/god-particle/DA48D0B148D08D9F/shaantanu_honours/data/depth'\n",
    "files = os.listdir('/media/god-particle/DA48D0B148D08D9F/shaantanu_honours/data/depth')\n",
    "\n",
    "for file in files:\n",
    "    new_file = file\n",
    "    new_file = new_file.split('.')\n",
    "    while(len(new_file[0])<20):\n",
    "        new_file[0] += \"0\"\n",
    "    os.rename(root_dir+\"/\"+file , root_dir+\"/\"+new_file[0] + '.' + new_file[1])\n",
    "\n",
    "# for file in files:\n",
    "#     new_file = file\n",
    "#     while(new_file[-1]!='g'):\n",
    "#         new_file = new_file[:-1]\n",
    "#     os.rename(root_dir+\"/\"+file , root_dir+\"/\"+new_file)"
   ]
  },
  {
   "attachments": {},
   "cell_type": "markdown",
   "id": "5389e429",
   "metadata": {},
   "source": [
    "### PCD registration"
   ]
  },
  {
   "cell_type": "code",
   "execution_count": 3,
   "id": "d300c450",
   "metadata": {},
   "outputs": [
    {
     "name": "stdout",
     "output_type": "stream",
     "text": [
      "Jupyter environment detected. Enabling Open3D WebVisualizer.\n",
      "[Open3D INFO] WebRTC GUI backend enabled.\n",
      "[Open3D INFO] WebRTCWindowSystem: HTTP handshake server disabled.\n"
     ]
    }
   ],
   "source": [
    "from pcdGenerate import generatePointCloud, getCameraIntrinsicMatrix\n",
    "import numpy as np\n",
    "import open3d as o3d"
   ]
  },
  {
   "cell_type": "code",
   "execution_count": 4,
   "id": "402926d0",
   "metadata": {},
   "outputs": [],
   "source": [
    "IMG_PATH = \"/media/god-particle/DA48D0B148D08D9F/shaantanu_honours/data/color\"\n",
    "DEPTH_PATH = \"/media/god-particle/DA48D0B148D08D9F/shaantanu_honours/data/depth\"\n",
    "POSE_PATH = \"/media/god-particle/DA48D0B148D08D9F/shaantanu_honours/data/pose\"\n",
    "CAM_PATH = \"/media/god-particle/DA48D0B148D08D9F/shaantanu_honours/data/intrinsics/intrinsic_depth.txt\"\n",
    "SEG_PATH = \"/media/god-particle/DA48D0B148D08D9F/shaantanu_honours/data/segmentation\""
   ]
  },
  {
   "cell_type": "code",
   "execution_count": 5,
   "id": "51924145",
   "metadata": {},
   "outputs": [],
   "source": [
    "camera_intrinsics = np.array([[641.4490966796875 ,0.0 ,646.7113037109375 ,0.0],\n",
    "                            [0.0, 639.9080200195312 ,362.441162109375 ,0.0],\n",
    "                            [0.0 ,0.0 ,1.0, 0.0],\n",
    "                            [0.0, 0.0, 0.0 ,1.0]])\n",
    "np.savetxt(CAM_PATH,camera_intrinsics)"
   ]
  },
  {
   "cell_type": "code",
   "execution_count": 6,
   "id": "fb879f53",
   "metadata": {},
   "outputs": [],
   "source": [
    "camera_intrinsics = getCameraIntrinsicMatrix(CAM_PATH)\n"
   ]
  },
  {
   "cell_type": "code",
   "execution_count": 76,
   "id": "626543e4",
   "metadata": {},
   "outputs": [],
   "source": [
    "camera_intrinsics = getCameraIntrinsicMatrix(CAM_PATH)\n",
    "\n",
    "pcd_raw = generatePointCloud(IMG_PATH,DEPTH_PATH,POSE_PATH,camera_intrinsics)"
   ]
  },
  {
   "cell_type": "code",
   "execution_count": 7,
   "id": "6f651a82",
   "metadata": {},
   "outputs": [],
   "source": [
    "def getSegmentationMask(seg):\n",
    "    mask = np.ones(seg.shape)\n",
    "    \n",
    "    floor_area = seg[500:,:]\n",
    "    floor_label = np.argmax(np.bincount(floor_area.flatten()))\n",
    "    # plt.figure()\n",
    "    # plt.imshow(floor_area)\n",
    "    # print(\"hi\")\n",
    "    # print(floor_label)\n",
    "\n",
    "    mask = seg == floor_label\n",
    "    return mask"
   ]
  },
  {
   "cell_type": "code",
   "execution_count": 8,
   "id": "4f44bc81",
   "metadata": {},
   "outputs": [
    {
     "name": "stdout",
     "output_type": "stream",
     "text": [
      "(187998, 3) (720, 1280, 3)\n",
      "(183663, 3) (720, 1280, 3)\n",
      "(185781, 3) (720, 1280, 3)\n",
      "(185928, 3) (720, 1280, 3)\n",
      "(185559, 3) (720, 1280, 3)\n",
      "(183875, 3) (720, 1280, 3)\n",
      "(185144, 3) (720, 1280, 3)\n",
      "(183153, 3) (720, 1280, 3)\n",
      "(190878, 3) (720, 1280, 3)\n",
      "(185117, 3) (720, 1280, 3)\n",
      "(185596, 3) (720, 1280, 3)\n",
      "(185721, 3) (720, 1280, 3)\n",
      "(164449, 3) (720, 1280, 3)\n",
      "(183853, 3) (720, 1280, 3)\n",
      "(185736, 3) (720, 1280, 3)\n",
      "(183136, 3) (720, 1280, 3)\n",
      "(185533, 3) (720, 1280, 3)\n",
      "(183409, 3) (720, 1280, 3)\n",
      "(185607, 3) (720, 1280, 3)\n",
      "(185796, 3) (720, 1280, 3)\n",
      "error caused due to /media/god-particle/DA48D0B148D08D9F/shaantanu_honours/data/depth/16727529356948826000.npy or /media/god-particle/DA48D0B148D08D9F/shaantanu_honours/data/color/16727529356948826000.png\n"
     ]
    },
    {
     "name": "stderr",
     "output_type": "stream",
     "text": [
      "/tmp/ipykernel_45875/179303361.py:6: RuntimeWarning: More than 20 figures have been opened. Figures created through the pyplot interface (`matplotlib.pyplot.figure`) are retained until explicitly closed and may consume too much memory. (To control this warning, see the rcParam `figure.max_open_warning`). Consider using `matplotlib.pyplot.close()`.\n",
      "  plt.figure()\n"
     ]
    },
    {
     "name": "stdout",
     "output_type": "stream",
     "text": [
      "(183548, 3) (720, 1280, 3)\n",
      "(185928, 3) (720, 1280, 3)\n",
      "(185808, 3) (720, 1280, 3)\n",
      "(185787, 3) (720, 1280, 3)\n",
      "(185888, 3) (720, 1280, 3)\n",
      "(185859, 3) (720, 1280, 3)\n",
      "(185326, 3) (720, 1280, 3)\n",
      "(185831, 3) (720, 1280, 3)\n",
      "(185357, 3) (720, 1280, 3)\n",
      "(164532, 3) (720, 1280, 3)\n",
      "(185905, 3) (720, 1280, 3)\n",
      "(185821, 3) (720, 1280, 3)\n",
      "(185061, 3) (720, 1280, 3)\n",
      "(185761, 3) (720, 1280, 3)\n",
      "(185067, 3) (720, 1280, 3)\n",
      "(185937, 3) (720, 1280, 3)\n",
      "(182953, 3) (720, 1280, 3)\n",
      "(185349, 3) (720, 1280, 3)\n",
      "(183562, 3) (720, 1280, 3)\n",
      "(185204, 3) (720, 1280, 3)\n",
      "(185628, 3) (720, 1280, 3)\n",
      "(185368, 3) (720, 1280, 3)\n",
      "(184744, 3) (720, 1280, 3)\n",
      "(185118, 3) (720, 1280, 3)\n",
      "(185768, 3) (720, 1280, 3)\n",
      "(185588, 3) (720, 1280, 3)\n",
      "(185199, 3) (720, 1280, 3)\n",
      "(185549, 3) (720, 1280, 3)\n",
      "(185139, 3) (720, 1280, 3)\n",
      "(183412, 3) (720, 1280, 3)\n",
      "(183250, 3) (720, 1280, 3)\n"
     ]
    }
   ],
   "source": [
    "posepath = POSE_PATH\n",
    "depthpath = DEPTH_PATH\n",
    "imgpath = IMG_PATH\n",
    "segpath = SEG_PATH\n",
    "\n",
    "scans_list = os.listdir(posepath)\n",
    "scans_list = list(map(lambda x: x.split('.')[0],scans_list))\n",
    "\n",
    "pcd_list = np.empty((0,3))\n",
    "color_list = np.empty((0,3))\n",
    "\n",
    "# for i,scan in enumerate(scans_list):\n",
    "for i,scan in enumerate(scans_list):\n",
    "\n",
    "    \n",
    "    depth_file = depthpath+\"/\"+scan+'.npy'\n",
    "    image_file = imgpath+'/'+scan+'.png'\n",
    "    seg_file = segpath+'/'+scan+'.png'\n",
    "\n",
    "\n",
    "    if(not os.path.exists(depth_file) or not os.path.exists(image_file)):\n",
    "        continue\n",
    "    \n",
    "    try:\n",
    "        depth_map = o3d.geometry.Image(np.ascontiguousarray(np.load(depth_file)).astype(np.float32))\n",
    "        rgb_img = cv2.cvtColor(cv2.imread(image_file),cv2.COLOR_BGR2RGB)\n",
    "        seg_img = cv2.imread(seg_file)\n",
    "    except:\n",
    "        print(f\"error caused due to {depth_file} or {image_file}\")\n",
    "        continue\n",
    "    \n",
    "    \n",
    "    mask = getSegmentationMask(seg_img[:,:,0])\n",
    "    depth_map = np.array(depth_map)\n",
    "    depth_map = depth_map*mask    \n",
    "    depth_map =  depth_map.astype(np.float32) \n",
    "    \n",
    "    rgbd_image = o3d.geometry.RGBDImage.create_from_color_and_depth(o3d.geometry.Image(rgb_img), o3d.geometry.Image(depth_map),convert_rgb_to_intensity=False)\n",
    "    pcd = o3d.geometry.PointCloud.create_from_rgbd_image(rgbd_image, camera_intrinsics)\n",
    "\n",
    "    # Transform the point cloud in local frame to global world coordinates\n",
    "    pose = np.loadtxt(posepath+'/'+scan+'.txt',dtype=np.float32)\n",
    "    pcd.transform(pose)\n",
    "    # Downsampling the pointcloud\n",
    "    # pcd = pcd.uniform_down_sample(100)\n",
    "    # pcd= pcd.voxel_down_sample(voxel_size=0.01)\n",
    "    color_list = np.vstack((color_list,np.asarray(pcd.colors)))\n",
    "    pcd_list = np.vstack((pcd_list,np.asarray(pcd.points)))\n",
    "\n",
    "    print(np.asarray(pcd.points).shape, rgb_img.shape)\n",
    "\n",
    "pcd = o3d.geometry.PointCloud()\n",
    "pcd.points = o3d.utility.Vector3dVector(pcd_list)\n",
    "pcd.colors = o3d.utility.Vector3dVector(color_list)\n",
    "\n",
    " "
   ]
  },
  {
   "cell_type": "code",
   "execution_count": 75,
   "id": "bd9835c2",
   "metadata": {},
   "outputs": [],
   "source": [
    "o3d.visualization.draw_geometries([pcd])"
   ]
  },
  {
   "attachments": {},
   "cell_type": "markdown",
   "id": "4d4c6673",
   "metadata": {},
   "source": [
    "### Results\n"
   ]
  },
  {
   "cell_type": "code",
   "execution_count": 124,
   "id": "c3b9e546",
   "metadata": {},
   "outputs": [],
   "source": [
    "o3d.visualization.draw_geometries([pcd_raw])"
   ]
  },
  {
   "cell_type": "code",
   "execution_count": 19,
   "id": "a0454559",
   "metadata": {},
   "outputs": [
    {
     "data": {
      "text/plain": [
       "True"
      ]
     },
     "execution_count": 19,
     "metadata": {},
     "output_type": "execute_result"
    }
   ],
   "source": [
    "o3d.io.write_point_cloud('/media/god-particle/DA48D0B148D08D9F/shaantanu_honours/data/pcd/point_cloud.pcd',pcd_raw)"
   ]
  },
  {
   "attachments": {},
   "cell_type": "markdown",
   "id": "9c75d7b4",
   "metadata": {},
   "source": [
    "TOP DOWN MAP GENERATION"
   ]
  },
  {
   "cell_type": "code",
   "execution_count": 180,
   "id": "88398ea8",
   "metadata": {},
   "outputs": [
    {
     "name": "stdout",
     "output_type": "stream",
     "text": [
      "1.2382344626821578\n"
     ]
    }
   ],
   "source": [
    "points = np.array(pcd_raw.points)\n",
    "colors = np.array(pcd_raw.colors)\n",
    "points[:,1] *= -1\n",
    "# idx = np.where((points[:,1] >0.1) & (points[:,1] < 1.5) )[0] \n",
    "idx = np.where((points[:,1] >0.1) )[0] \n",
    "\n",
    "# print(idx)\n",
    "# print(points[[idx]])\n",
    "points = points[idx]\n",
    "colors = colors[idx]\n",
    "\n",
    "print(np.min(points[:,2]))\n",
    "\n",
    "\n",
    "# # print(points.shape) \n",
    "# # points[:,1] = 0\n",
    "# pcd_test = o3d.geometry.PointCloud()\n",
    "# pcd_test.points = o3d.utility.Vector3dVector(points)\n",
    "# pcd_test.colors = o3d.utility.Vector3dVector(colors)\n",
    "# o3d.visualization.draw_geometries([pcd_test])"
   ]
  },
  {
   "cell_type": "code",
   "execution_count": 178,
   "id": "df5b4ecd",
   "metadata": {},
   "outputs": [],
   "source": [
    "MAP_W = 500\n",
    "MAP_H = 500\n",
    "PAD = 0\n",
    "S = 0.05"
   ]
  },
  {
   "cell_type": "code",
   "execution_count": 181,
   "id": "ec67b147",
   "metadata": {},
   "outputs": [],
   "source": [
    "map = np.zeros((MAP_H,MAP_W))\n",
    "points2D = np.array([points[:,0],points[:,2]]).T\n",
    "\n",
    "for point in points2D:\n",
    "    px = point[0]\n",
    "    py = point[1]\n",
    "\n",
    "    indx = int(px/S) + PAD + MAP_W//2\n",
    "    indy = int(py/S) + PAD + MAP_H//2\n",
    "\n",
    "    map[indy,indx] = 1"
   ]
  },
  {
   "cell_type": "code",
   "execution_count": 182,
   "id": "f3b7bbb1",
   "metadata": {},
   "outputs": [
    {
     "data": {
      "text/plain": [
       "<matplotlib.image.AxesImage at 0x7f3170b52b30>"
      ]
     },
     "execution_count": 182,
     "metadata": {},
     "output_type": "execute_result"
    },
    {
     "data": {
      "image/png": "[encoded data removed]",
      "text/plain": [
       "<Figure size 640x480 with 1 Axes>"
      ]
     },
     "metadata": {},
     "output_type": "display_data"
    }
   ],
   "source": [
    "plt.imshow(map)"
   ]
  },
  {
   "cell_type": "code",
   "execution_count": null,
   "id": "20113aaf",
   "metadata": {},
   "outputs": [],
   "source": []
  }
 ],
 "metadata": {
  "kernelspec": {
   "display_name": "indo_map",
   "language": "python",
   "name": "python3"
  },
  "language_info": {
   "codemirror_mode": {
    "name": "ipython",
    "version": 3
   },
   "file_extension": ".py",
   "mimetype": "text/x-python",
   "name": "python",
   "nbconvert_exporter": "python",
   "pygments_lexer": "ipython3",
   "version": "3.10.8"
  },
  "vscode": {
   "interpreter": {
    "hash": "758dc2929f457a78fbc3a6f9331ca664b561cff67ea97b92af4ab85fb325fb18"
   }
  }
 },
 "nbformat": 4,
 "nbformat_minor": 5
}
